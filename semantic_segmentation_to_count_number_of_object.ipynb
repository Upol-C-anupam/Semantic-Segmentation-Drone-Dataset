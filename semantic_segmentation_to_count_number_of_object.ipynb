{
  "metadata": {
    "kernelspec": {
      "language": "python",
      "display_name": "Python 3",
      "name": "python3"
    },
    "language_info": {
      "pygments_lexer": "ipython3",
      "nbconvert_exporter": "python",
      "version": "3.6.4",
      "file_extension": ".py",
      "codemirror_mode": {
        "name": "ipython",
        "version": 3
      },
      "name": "python",
      "mimetype": "text/x-python"
    },
    "colab": {
      "provenance": []
    }
  },
  "nbformat_minor": 0,
  "nbformat": 4,
  "cells": [
    {
      "cell_type": "markdown",
      "source": [
        "# Import Libraries"
      ],
      "metadata": {
        "id": "l5i3N-weKP6-",
        "papermill": {
          "duration": 0.022866,
          "end_time": "2021-02-18T10:06:03.865074",
          "exception": false,
          "start_time": "2021-02-18T10:06:03.842208",
          "status": "completed"
        },
        "tags": []
      }
    },
    {
      "cell_type": "code",
      "source": [
        "\n",
        "\n",
        "import numpy as np\n",
        "import pandas as pd\n",
        "import matplotlib.pyplot as plt\n",
        "\n",
        "from sklearn.model_selection import train_test_split\n",
        "\n",
        "import torch\n",
        "import torch.nn as nn\n",
        "from torch.utils.data import Dataset, DataLoader\n",
        "from torchvision import transforms as T\n",
        "import torchvision\n",
        "import torch.nn.functional as F\n",
        "from torch.autograd import Variable\n",
        "\n",
        "from PIL import Image\n",
        "import cv2\n",
        "import albumentations as A\n",
        "\n",
        "import time\n",
        "import os\n",
        "from tqdm.notebook import tqdm\n",
        "\n",
        "!pip install -q segmentation-models-pytorch\n",
        "!pip install -q torchsummary\n",
        "\n",
        "from torchsummary import summary\n",
        "import segmentation_models_pytorch as smp\n",
        "\n",
        "device = torch.device(\"cuda\" if torch.cuda.is_available() else \"cpu\")"
      ],
      "metadata": {
        "id": "kFSYoYRqJSfB",
        "papermill": {
          "duration": 23.025453,
          "end_time": "2021-02-18T10:06:26.911588",
          "exception": false,
          "start_time": "2021-02-18T10:06:03.886135",
          "status": "completed"
        },
        "tags": [],
        "execution": {
          "iopub.status.busy": "2023-04-21T01:12:24.149926Z",
          "iopub.execute_input": "2023-04-21T01:12:24.150363Z",
          "iopub.status.idle": "2023-04-21T01:12:53.656777Z",
          "shell.execute_reply.started": "2023-04-21T01:12:24.150261Z",
          "shell.execute_reply": "2023-04-21T01:12:53.655571Z"
        },
        "trusted": true
      },
      "execution_count": null,
      "outputs": []
    },
    {
      "cell_type": "markdown",
      "source": [
        "# Preprocessing"
      ],
      "metadata": {
        "id": "1_HWVOdhJSfP",
        "papermill": {
          "duration": 0.026783,
          "end_time": "2021-02-18T10:06:26.966143",
          "exception": false,
          "start_time": "2021-02-18T10:06:26.93936",
          "status": "completed"
        },
        "tags": []
      }
    },
    {
      "cell_type": "code",
      "source": [
        "\n",
        "\n",
        "IMAGE_PATH = '/kaggle/input/ravir-segmentation/RAVIR Dataset/train/training_images/'\n",
        "MASK_PATH = '/kaggle/input/ravir-segmentation/RAVIR Dataset/train/training_masks/'\n"
      ],
      "metadata": {
        "papermill": {
          "duration": 0.033799,
          "end_time": "2021-02-18T10:06:27.027862",
          "exception": false,
          "start_time": "2021-02-18T10:06:26.994063",
          "status": "completed"
        },
        "tags": [],
        "execution": {
          "iopub.status.busy": "2023-04-21T03:07:19.961545Z",
          "iopub.execute_input": "2023-04-21T03:07:19.961884Z",
          "iopub.status.idle": "2023-04-21T03:07:19.966081Z",
          "shell.execute_reply.started": "2023-04-21T03:07:19.961844Z",
          "shell.execute_reply": "2023-04-21T03:07:19.964955Z"
        },
        "trusted": true,
        "id": "QX6Pdy_VDFXi"
      },
      "execution_count": 1,
      "outputs": []
    },
    {
      "cell_type": "code",
      "source": [
        "#../input/semantic-drone-dataset/dataset/semantic_drone_dataset/original_images/000.jpg\n",
        "#df['id'].values"
      ],
      "metadata": {
        "execution": {
          "iopub.status.busy": "2023-04-21T01:13:32.789118Z",
          "iopub.execute_input": "2023-04-21T01:13:32.789459Z",
          "iopub.status.idle": "2023-04-21T01:13:32.793218Z",
          "shell.execute_reply.started": "2023-04-21T01:13:32.789404Z",
          "shell.execute_reply": "2023-04-21T01:13:32.792108Z"
        },
        "trusted": true,
        "id": "Fkd-4ChqDFXl"
      },
      "execution_count": null,
      "outputs": []
    },
    {
      "cell_type": "markdown",
      "source": [
        "ক্লাসের সংখ্যা ডেটাসেট অনুযায়ী বদলাবে এখানে পরের সেল এ"
      ],
      "metadata": {
        "id": "nekwL28GDFXn"
      }
    },
    {
      "cell_type": "code",
      "source": [
        "n_classes = 3\n",
        "\n",
        "def create_df():\n",
        "    name = []\n",
        "    for dirname, _, filenames in os.walk(IMAGE_PATH):\n",
        "        for filename in filenames:\n",
        "            name.append(filename.split('.')[0])\n",
        "\n",
        "    return pd.DataFrame({'id': name}, index = np.arange(0, len(name)))\n",
        "\n",
        "df = create_df()\n",
        "print('Total Images: ', len(df))"
      ],
      "metadata": {
        "id": "gmPIy2ZFJSfQ",
        "papermill": {
          "duration": 0.157328,
          "end_time": "2021-02-18T10:06:27.211938",
          "exception": false,
          "start_time": "2021-02-18T10:06:27.05461",
          "status": "completed"
        },
        "tags": [],
        "execution": {
          "iopub.status.busy": "2023-04-21T03:07:22.273633Z",
          "iopub.execute_input": "2023-04-21T03:07:22.273964Z",
          "iopub.status.idle": "2023-04-21T03:07:22.286348Z",
          "shell.execute_reply.started": "2023-04-21T03:07:22.273933Z",
          "shell.execute_reply": "2023-04-21T03:07:22.285514Z"
        },
        "trusted": true
      },
      "execution_count": null,
      "outputs": []
    },
    {
      "cell_type": "code",
      "source": [
        "df"
      ],
      "metadata": {
        "execution": {
          "iopub.status.busy": "2023-04-21T02:55:50.215487Z",
          "iopub.execute_input": "2023-04-21T02:55:50.215852Z",
          "iopub.status.idle": "2023-04-21T02:55:50.229767Z",
          "shell.execute_reply.started": "2023-04-21T02:55:50.215819Z",
          "shell.execute_reply": "2023-04-21T02:55:50.228659Z"
        },
        "trusted": true,
        "id": "vvUAP9fIDFX1"
      },
      "execution_count": null,
      "outputs": []
    },
    {
      "cell_type": "code",
      "source": [
        "#split data\n",
        "X_trainval, X_test = train_test_split(df['id'].values, test_size=0.1, random_state=19)\n",
        "X_train, X_val = train_test_split(X_trainval, test_size=0.15, random_state=19)\n",
        "\n",
        "print('Train Size   : ', len(X_train))\n",
        "print('Val Size     : ', len(X_val))\n",
        "print('Test Size    : ', len(X_test))"
      ],
      "metadata": {
        "papermill": {
          "duration": 0.045372,
          "end_time": "2021-02-18T10:06:27.28512",
          "exception": false,
          "start_time": "2021-02-18T10:06:27.239748",
          "status": "completed"
        },
        "tags": [],
        "execution": {
          "iopub.status.busy": "2023-04-21T03:07:24.864269Z",
          "iopub.execute_input": "2023-04-21T03:07:24.864667Z",
          "iopub.status.idle": "2023-04-21T03:07:24.874826Z",
          "shell.execute_reply.started": "2023-04-21T03:07:24.864633Z",
          "shell.execute_reply": "2023-04-21T03:07:24.873593Z"
        },
        "trusted": true,
        "id": "TLDKHF8RDFX4"
      },
      "execution_count": null,
      "outputs": []
    },
    {
      "cell_type": "code",
      "source": [],
      "metadata": {
        "execution": {
          "iopub.status.busy": "2023-04-21T02:26:55.558435Z",
          "iopub.execute_input": "2023-04-21T02:26:55.558796Z",
          "iopub.status.idle": "2023-04-21T02:26:55.579215Z",
          "shell.execute_reply.started": "2023-04-21T02:26:55.558765Z",
          "shell.execute_reply": "2023-04-21T02:26:55.57802Z"
        },
        "trusted": true,
        "id": "mn_TX6s_DFX6"
      },
      "execution_count": null,
      "outputs": []
    },
    {
      "cell_type": "code",
      "source": [
        "img = Image.open('/kaggle/input/ravir-segmentation/RAVIR Dataset/train/training_images/IR_Case_011.png')\n",
        "mask = Image.open('/kaggle/input/ravir-segmentation/RAVIR Dataset/train/training_images/IR_Case_011.png'.replace('images','masks'))\n",
        "print('Image Size', np.asarray(img).shape)\n",
        "print('Mask Size', np.asarray(mask).shape)\n",
        "\n",
        "\n",
        "plt.imshow(img)\n",
        "plt.imshow(mask, alpha=0.6)\n",
        "plt.title('Picture with Mask Appplied')\n",
        "plt.show()"
      ],
      "metadata": {
        "id": "-uXF6vetJSff",
        "papermill": {
          "duration": 4.280771,
          "end_time": "2021-02-18T10:06:31.595115",
          "exception": false,
          "start_time": "2021-02-18T10:06:27.314344",
          "status": "completed"
        },
        "tags": [],
        "execution": {
          "iopub.status.busy": "2023-04-21T03:07:29.589617Z",
          "iopub.execute_input": "2023-04-21T03:07:29.590002Z",
          "iopub.status.idle": "2023-04-21T03:07:29.858967Z",
          "shell.execute_reply.started": "2023-04-21T03:07:29.589959Z",
          "shell.execute_reply": "2023-04-21T03:07:29.858112Z"
        },
        "trusted": true
      },
      "execution_count": null,
      "outputs": []
    },
    {
      "cell_type": "code",
      "source": [
        "# from skimage import io\n",
        "# temp_data = io.imread('../input/semantic-drone-dataset/dataset/semantic_drone_dataset/label_images_semantic/000.png')\n",
        "# temp_data"
      ],
      "metadata": {
        "execution": {
          "iopub.status.busy": "2023-04-21T02:38:57.160733Z",
          "iopub.execute_input": "2023-04-21T02:38:57.161075Z",
          "iopub.status.idle": "2023-04-21T02:38:57.165441Z",
          "shell.execute_reply.started": "2023-04-21T02:38:57.161042Z",
          "shell.execute_reply": "2023-04-21T02:38:57.164305Z"
        },
        "trusted": true,
        "id": "JJN1X52bDFX8"
      },
      "execution_count": null,
      "outputs": []
    },
    {
      "cell_type": "code",
      "source": [
        "#print(temp_data[40][60:100])"
      ],
      "metadata": {
        "execution": {
          "iopub.status.busy": "2023-04-21T02:39:20.011805Z",
          "iopub.execute_input": "2023-04-21T02:39:20.012145Z",
          "iopub.status.idle": "2023-04-21T02:39:20.016709Z",
          "shell.execute_reply.started": "2023-04-21T02:39:20.012114Z",
          "shell.execute_reply": "2023-04-21T02:39:20.015254Z"
        },
        "trusted": true,
        "id": "P53xpY-RDFX8"
      },
      "execution_count": null,
      "outputs": []
    },
    {
      "cell_type": "code",
      "source": [
        "#mask[]"
      ],
      "metadata": {
        "execution": {
          "iopub.status.busy": "2023-04-21T01:13:51.648539Z",
          "iopub.execute_input": "2023-04-21T01:13:51.648879Z",
          "iopub.status.idle": "2023-04-21T01:13:51.652829Z",
          "shell.execute_reply.started": "2023-04-21T01:13:51.64885Z",
          "shell.execute_reply": "2023-04-21T01:13:51.651682Z"
        },
        "trusted": true,
        "id": "wbnFb8oYDFX-"
      },
      "execution_count": null,
      "outputs": []
    },
    {
      "cell_type": "markdown",
      "source": [
        "# Dataset"
      ],
      "metadata": {
        "id": "dkjFEoe7JSfo",
        "papermill": {
          "duration": 0.030107,
          "end_time": "2021-02-18T10:06:31.656378",
          "exception": false,
          "start_time": "2021-02-18T10:06:31.626271",
          "status": "completed"
        },
        "tags": []
      }
    },
    {
      "cell_type": "code",
      "source": [
        "temp = io.imread('/kaggle/input/ravir-segmentation/RAVIR Dataset/train/training_masks/IR_Case_011.png')\n",
        "np.unique(temp)"
      ],
      "metadata": {
        "execution": {
          "iopub.status.busy": "2023-04-21T02:39:37.035022Z",
          "iopub.execute_input": "2023-04-21T02:39:37.03537Z",
          "iopub.status.idle": "2023-04-21T02:39:37.057508Z",
          "shell.execute_reply.started": "2023-04-21T02:39:37.035336Z",
          "shell.execute_reply": "2023-04-21T02:39:37.056705Z"
        },
        "trusted": true,
        "id": "KUprSZZdDFYA"
      },
      "execution_count": null,
      "outputs": []
    },
    {
      "cell_type": "code",
      "source": [
        "class DroneDataset(Dataset):\n",
        "\n",
        "    def __init__(self, img_path, mask_path, X, mean, std, transform=None, patch=False):\n",
        "        self.img_path = img_path\n",
        "        self.mask_path = mask_path\n",
        "        self.X = X\n",
        "        self.transform = transform\n",
        "        self.patches = patch\n",
        "        self.mean = mean\n",
        "        self.std = std\n",
        "\n",
        "    def __len__(self):\n",
        "        return len(self.X)\n",
        "\n",
        "    def __getitem__(self, idx):\n",
        "        img = cv2.imread(self.img_path + self.X[idx] + '.png')\n",
        "        img = cv2.cvtColor(img, cv2.COLOR_BGR2RGB)\n",
        "        mask = cv2.imread(self.mask_path + self.X[idx] + '.png', cv2.IMREAD_GRAYSCALE)\n",
        "\n",
        "        if self.transform is not None:\n",
        "            aug = self.transform(image=img, mask=mask)\n",
        "            img = Image.fromarray(aug['image'])\n",
        "            mask = aug['mask']\n",
        "\n",
        "        if self.transform is None:\n",
        "            img = Image.fromarray(img)\n",
        "\n",
        "        t = T.Compose([T.ToTensor(), T.Normalize(self.mean, self.std)])\n",
        "        img = t(img)\n",
        "        mask = torch.from_numpy(mask).long()\n",
        "\n",
        "        if self.patches:\n",
        "            img, mask = self.tiles(img, mask)\n",
        "\n",
        "        return img, mask\n",
        "\n",
        "    def tiles(self, img, mask):\n",
        "\n",
        "        img_patches = img.unfold(1, 512, 512).unfold(2, 768, 768)\n",
        "        img_patches  = img_patches.contiguous().view(3,-1, 512, 768)\n",
        "        img_patches = img_patches.permute(1,0,2,3)\n",
        "\n",
        "        mask_patches = mask.unfold(0, 512, 512).unfold(1, 768, 768)\n",
        "        mask_patches = mask_patches.contiguous().view(-1, 512, 768)\n",
        "\n",
        "        return img_patches, mask_patches\n",
        "\n",
        "\n",
        "#train_set = DroneDataset(IMAGE_PATH, MASK_PATH, X_train, mean, std, t_train, patch=False)\n",
        "#a, b = train_set.__getitem__(0)"
      ],
      "metadata": {
        "id": "yne-vteuJSfp",
        "papermill": {
          "duration": 0.045449,
          "end_time": "2021-02-18T10:06:31.732603",
          "exception": false,
          "start_time": "2021-02-18T10:06:31.687154",
          "status": "completed"
        },
        "tags": [],
        "execution": {
          "iopub.status.busy": "2023-04-21T03:07:44.116718Z",
          "iopub.execute_input": "2023-04-21T03:07:44.117046Z",
          "iopub.status.idle": "2023-04-21T03:07:44.12776Z",
          "shell.execute_reply.started": "2023-04-21T03:07:44.117015Z",
          "shell.execute_reply": "2023-04-21T03:07:44.126452Z"
        },
        "trusted": true
      },
      "execution_count": null,
      "outputs": []
    },
    {
      "cell_type": "code",
      "source": [],
      "metadata": {
        "trusted": true,
        "id": "VZBosEf3DFYD"
      },
      "execution_count": null,
      "outputs": []
    },
    {
      "cell_type": "markdown",
      "source": [],
      "metadata": {
        "id": "8M2qvfqEDFYD"
      }
    },
    {
      "cell_type": "code",
      "source": [
        "mean=[0.485, 0.456, 0.406]\n",
        "std=[0.229, 0.224, 0.225]\n",
        "\n",
        "\n",
        "t_train = A.Compose([A.Resize(704, 1056, interpolation=cv2.INTER_NEAREST), A.HorizontalFlip(), A.VerticalFlip(),\n",
        "                     A.GridDistortion(p=0.2), A.RandomBrightnessContrast((0,0.5),(0,0.5)),\n",
        "                     A.GaussNoise()])\n",
        "\n",
        "t_val = A.Compose([A.Resize(704, 1056, interpolation=cv2.INTER_NEAREST), A.HorizontalFlip(),\n",
        "                   A.GridDistortion(p=0.2)])\n",
        "\n",
        "#datasets\n",
        "\n",
        "batch_size= 2\n",
        "\n",
        "\n",
        "\n",
        "train_set = DroneDataset(IMAGE_PATH, MASK_PATH, X_train, mean, std, t_train, patch=False)\n",
        "train_loader = DataLoader(train_set, batch_size=batch_size, shuffle=True)\n",
        "\n",
        "\n",
        "val_set = DroneDataset(IMAGE_PATH, MASK_PATH, X_val, mean, std, t_val, patch=False)\n",
        "val_loader = DataLoader(val_set, batch_size=batch_size, shuffle=True)\n",
        "#dataloader\n",
        "\n",
        "\n"
      ],
      "metadata": {
        "id": "CCL93_giJSft",
        "papermill": {
          "duration": 0.041706,
          "end_time": "2021-02-18T10:06:31.80439",
          "exception": false,
          "start_time": "2021-02-18T10:06:31.762684",
          "status": "completed"
        },
        "tags": [],
        "execution": {
          "iopub.status.busy": "2023-04-21T03:07:49.638602Z",
          "iopub.execute_input": "2023-04-21T03:07:49.639002Z",
          "iopub.status.idle": "2023-04-21T03:07:49.646787Z",
          "shell.execute_reply.started": "2023-04-21T03:07:49.638959Z",
          "shell.execute_reply": "2023-04-21T03:07:49.645897Z"
        },
        "trusted": true
      },
      "execution_count": null,
      "outputs": []
    },
    {
      "cell_type": "markdown",
      "source": [
        "# Model"
      ],
      "metadata": {
        "id": "jJ-ZypiFJSgJ",
        "papermill": {
          "duration": 0.029797,
          "end_time": "2021-02-18T10:06:31.864199",
          "exception": false,
          "start_time": "2021-02-18T10:06:31.834402",
          "status": "completed"
        },
        "tags": []
      }
    },
    {
      "cell_type": "code",
      "source": [
        "model = smp.Unet('mobilenet_v2', encoder_weights='imagenet', classes=3, activation=None, encoder_depth=5, decoder_channels=[256, 128, 64, 32, 16])"
      ],
      "metadata": {
        "id": "ZXb8nBmpJSgK",
        "papermill": {
          "duration": 0.637787,
          "end_time": "2021-02-18T10:06:32.532384",
          "exception": false,
          "start_time": "2021-02-18T10:06:31.894597",
          "status": "completed"
        },
        "tags": [],
        "execution": {
          "iopub.status.busy": "2023-04-21T03:07:51.756793Z",
          "iopub.execute_input": "2023-04-21T03:07:51.757139Z",
          "iopub.status.idle": "2023-04-21T03:07:51.919431Z",
          "shell.execute_reply.started": "2023-04-21T03:07:51.757106Z",
          "shell.execute_reply": "2023-04-21T03:07:51.918676Z"
        },
        "trusted": true
      },
      "execution_count": null,
      "outputs": []
    },
    {
      "cell_type": "markdown",
      "source": [
        "# Training"
      ],
      "metadata": {
        "id": "ncudHa0UJSgQ",
        "papermill": {
          "duration": 0.031715,
          "end_time": "2021-02-18T10:06:32.670851",
          "exception": false,
          "start_time": "2021-02-18T10:06:32.639136",
          "status": "completed"
        },
        "tags": []
      }
    },
    {
      "cell_type": "code",
      "source": [
        "def pixel_accuracy(output, mask):\n",
        "    with torch.no_grad():\n",
        "        output = torch.argmax(F.softmax(output, dim=1), dim=1)\n",
        "        correct = torch.eq(output, mask).int()\n",
        "        accuracy = float(correct.sum()) / float(correct.numel())\n",
        "    return accuracy"
      ],
      "metadata": {
        "papermill": {
          "duration": 0.039711,
          "end_time": "2021-02-18T10:06:32.742919",
          "exception": false,
          "start_time": "2021-02-18T10:06:32.703208",
          "status": "completed"
        },
        "tags": [],
        "execution": {
          "iopub.status.busy": "2023-04-21T03:07:54.455073Z",
          "iopub.execute_input": "2023-04-21T03:07:54.455398Z",
          "iopub.status.idle": "2023-04-21T03:07:54.460601Z",
          "shell.execute_reply.started": "2023-04-21T03:07:54.455366Z",
          "shell.execute_reply": "2023-04-21T03:07:54.459695Z"
        },
        "trusted": true,
        "id": "8XeE6NS1DFYF"
      },
      "execution_count": null,
      "outputs": []
    },
    {
      "cell_type": "code",
      "source": [
        "def mIoU(pred_mask, mask, smooth=1e-10, n_classes=23):\n",
        "    with torch.no_grad():\n",
        "        pred_mask = F.softmax(pred_mask, dim=1)\n",
        "        pred_mask = torch.argmax(pred_mask, dim=1)\n",
        "        pred_mask = pred_mask.contiguous().view(-1)\n",
        "        mask = mask.contiguous().view(-1)\n",
        "\n",
        "        iou_per_class = []\n",
        "        for clas in range(0, n_classes): #loop per pixel class\n",
        "            true_class = pred_mask == clas\n",
        "            true_label = mask == clas\n",
        "\n",
        "            if true_label.long().sum().item() == 0: #no exist label in this loop\n",
        "                iou_per_class.append(np.nan)\n",
        "            else:\n",
        "                intersect = torch.logical_and(true_class, true_label).sum().float().item()\n",
        "                union = torch.logical_or(true_class, true_label).sum().float().item()\n",
        "\n",
        "                iou = (intersect + smooth) / (union +smooth)\n",
        "                iou_per_class.append(iou)\n",
        "        return np.nanmean(iou_per_class)"
      ],
      "metadata": {
        "id": "5cqfcLtOJSgS",
        "papermill": {
          "duration": 0.048322,
          "end_time": "2021-02-18T10:06:32.826838",
          "exception": false,
          "start_time": "2021-02-18T10:06:32.778516",
          "status": "completed"
        },
        "tags": [],
        "execution": {
          "iopub.status.busy": "2023-04-21T03:07:56.150515Z",
          "iopub.execute_input": "2023-04-21T03:07:56.150837Z",
          "iopub.status.idle": "2023-04-21T03:07:56.157853Z",
          "shell.execute_reply.started": "2023-04-21T03:07:56.1508Z",
          "shell.execute_reply": "2023-04-21T03:07:56.156978Z"
        },
        "trusted": true
      },
      "execution_count": null,
      "outputs": []
    },
    {
      "cell_type": "code",
      "source": [
        "def get_lr(optimizer):\n",
        "    for param_group in optimizer.param_groups:\n",
        "        return param_group['lr']\n",
        "\n",
        "def fit(epochs, model, train_loader, val_loader, criterion, optimizer, scheduler, patch=False):\n",
        "    torch.cuda.empty_cache()\n",
        "    train_losses = []\n",
        "    test_losses = []\n",
        "    val_iou = []; val_acc = []\n",
        "    train_iou = []; train_acc = []\n",
        "    lrs = []\n",
        "    min_loss = np.inf\n",
        "    decrease = 1 ; not_improve=0\n",
        "\n",
        "    model.to(device)\n",
        "    fit_time = time.time()\n",
        "    for e in range(epochs):\n",
        "        since = time.time()\n",
        "        running_loss = 0\n",
        "        iou_score = 0\n",
        "        accuracy = 0\n",
        "        #training loop\n",
        "        model.train()\n",
        "        for i, data in enumerate(tqdm(train_loader)):\n",
        "\n",
        "            #training phase\n",
        "            #print(mask_tiles)\n",
        "            image_tiles, mask_tiles = data\n",
        "            if patch:\n",
        "                bs, n_tiles, c, h, w = image_tiles.size()\n",
        "\n",
        "                image_tiles = image_tiles.view(-1,c, h, w)\n",
        "                mask_tiles = mask_tiles.view(-1, h, w)\n",
        "\n",
        "            image = image_tiles.to(device); mask = mask_tiles.to(device);\n",
        "            #forward\n",
        "\n",
        "\n",
        "            output = model(image)\n",
        "            loss = criterion(output, mask)\n",
        "            #evaluation metrics\n",
        "            iou_score += mIoU(output, mask)\n",
        "            accuracy += pixel_accuracy(output, mask)\n",
        "            #backward\n",
        "            loss.backward()\n",
        "            optimizer.step() #update weight\n",
        "            optimizer.zero_grad() #reset gradient\n",
        "\n",
        "            #step the learning rate\n",
        "            lrs.append(get_lr(optimizer))\n",
        "            scheduler.step()\n",
        "\n",
        "            running_loss += loss.item()\n",
        "\n",
        "\n",
        "\n",
        "        else:\n",
        "\n",
        "            model.eval()\n",
        "            test_loss = 0\n",
        "            test_accuracy = 0\n",
        "            val_iou_score = 0\n",
        "            #validation loop\n",
        "            with torch.no_grad():\n",
        "                for i, data in enumerate(tqdm(val_loader)):\n",
        "                    #reshape to 9 patches from single image, delete batch size\n",
        "                    image_tiles, mask_tiles = data\n",
        "\n",
        "                    if patch:\n",
        "                        bs, n_tiles, c, h, w = image_tiles.size()\n",
        "\n",
        "                        image_tiles = image_tiles.view(-1,c, h, w)\n",
        "                        mask_tiles = mask_tiles.view(-1, h, w)\n",
        "\n",
        "                    image = image_tiles.to(device); mask = mask_tiles.to(device);\n",
        "                    output = model(image)\n",
        "                    #evaluation metrics\n",
        "                    val_iou_score +=  mIoU(output, mask)\n",
        "                    test_accuracy += pixel_accuracy(output, mask)\n",
        "                    #loss\n",
        "                    loss = criterion(output, mask)\n",
        "                    test_loss += loss.item()\n",
        "\n",
        "            #calculatio mean for each batch\n",
        "            train_losses.append(running_loss/len(train_loader))\n",
        "            test_losses.append(test_loss/len(val_loader))\n",
        "\n",
        "\n",
        "            if min_loss > (test_loss/len(val_loader)):\n",
        "                print('Loss Decreasing.. {:.3f} >> {:.3f} '.format(min_loss, (test_loss/len(val_loader))))\n",
        "                min_loss = (test_loss/len(val_loader))\n",
        "                decrease += 1\n",
        "                if decrease % 5 == 0:\n",
        "                    print('saving model...')\n",
        "                    torch.save(model, 'Unet-Mobilenet_v2_mIoU-{:.3f}.pt'.format(val_iou_score/len(val_loader)))\n",
        "\n",
        "\n",
        "            if (test_loss/len(val_loader)) > min_loss:\n",
        "                not_improve += 1\n",
        "                min_loss = (test_loss/len(val_loader))\n",
        "                print(f'Loss Not Decrease for {not_improve} time')\n",
        "                if not_improve == 7:\n",
        "                    print('Loss not decrease for 7 times, Stop Training')\n",
        "                    break\n",
        "\n",
        "            #iou\n",
        "            val_iou.append(val_iou_score/len(val_loader))\n",
        "            train_iou.append(iou_score/len(train_loader))\n",
        "            train_acc.append(accuracy/len(train_loader))\n",
        "            val_acc.append(test_accuracy/ len(val_loader))\n",
        "            print(\"Epoch:{}/{}..\".format(e+1, epochs),\n",
        "                  \"Train Loss: {:.3f}..\".format(running_loss/len(train_loader)),\n",
        "                  \"Val Loss: {:.3f}..\".format(test_loss/len(val_loader)),\n",
        "                  \"Train mIoU:{:.3f}..\".format(iou_score/len(train_loader)),\n",
        "                  \"Val mIoU: {:.3f}..\".format(val_iou_score/len(val_loader)),\n",
        "                  \"Train Acc:{:.3f}..\".format(accuracy/len(train_loader)),\n",
        "                  \"Val Acc:{:.3f}..\".format(test_accuracy/len(val_loader)),\n",
        "                  \"Time: {:.2f}m\".format((time.time()-since)/60))\n",
        "\n",
        "    history = {'train_loss' : train_losses, 'val_loss': test_losses,\n",
        "               'train_miou' :train_iou, 'val_miou':val_iou,\n",
        "               'train_acc' :train_acc, 'val_acc':val_acc,\n",
        "               'lrs': lrs}\n",
        "    print('Total time: {:.2f} m' .format((time.time()- fit_time)/60))\n",
        "    return history"
      ],
      "metadata": {
        "id": "8i9UIFUJJSgZ",
        "papermill": {
          "duration": 0.060048,
          "end_time": "2021-02-18T10:06:32.922403",
          "exception": false,
          "start_time": "2021-02-18T10:06:32.862355",
          "status": "completed"
        },
        "tags": [],
        "execution": {
          "iopub.status.busy": "2023-04-21T03:07:57.918443Z",
          "iopub.execute_input": "2023-04-21T03:07:57.918774Z",
          "iopub.status.idle": "2023-04-21T03:07:57.938605Z",
          "shell.execute_reply.started": "2023-04-21T03:07:57.918743Z",
          "shell.execute_reply": "2023-04-21T03:07:57.937447Z"
        },
        "trusted": true
      },
      "execution_count": null,
      "outputs": []
    },
    {
      "cell_type": "code",
      "source": [
        "max_lr = 1e-3\n",
        "epoch = 15\n",
        "weight_decay = 1e-4\n",
        "\n",
        "criterion = nn.CrossEntropyLoss()\n",
        "optimizer = torch.optim.AdamW(model.parameters(), lr=max_lr, weight_decay=weight_decay)\n",
        "sched = torch.optim.lr_scheduler.OneCycleLR(optimizer, max_lr, epochs=epoch,\n",
        "                                            steps_per_epoch=len(train_loader))\n",
        "\n",
        "\n",
        "\n",
        "history = fit(epoch, model, train_loader, val_loader, criterion, optimizer, sched)"
      ],
      "metadata": {
        "id": "vo-VQwfJJSgg",
        "papermill": {
          "duration": 3881.864248,
          "end_time": "2021-02-18T11:11:14.819081",
          "exception": false,
          "start_time": "2021-02-18T10:06:32.954833",
          "status": "completed"
        },
        "tags": [],
        "execution": {
          "iopub.status.busy": "2023-04-21T03:09:14.303651Z",
          "iopub.execute_input": "2023-04-21T03:09:14.303979Z",
          "iopub.status.idle": "2023-04-21T03:09:14.357282Z",
          "shell.execute_reply.started": "2023-04-21T03:09:14.303948Z",
          "shell.execute_reply": "2023-04-21T03:09:14.355559Z"
        },
        "trusted": true
      },
      "execution_count": null,
      "outputs": []
    },
    {
      "cell_type": "code",
      "source": [
        "torch.cuda.empty_cache()"
      ],
      "metadata": {
        "execution": {
          "iopub.status.busy": "2023-04-21T03:09:42.48844Z",
          "iopub.execute_input": "2023-04-21T03:09:42.488764Z",
          "iopub.status.idle": "2023-04-21T03:09:42.508496Z",
          "shell.execute_reply.started": "2023-04-21T03:09:42.488733Z",
          "shell.execute_reply": "2023-04-21T03:09:42.507103Z"
        },
        "trusted": true,
        "id": "cSoLIaX9DFYI"
      },
      "execution_count": null,
      "outputs": []
    },
    {
      "cell_type": "code",
      "source": [
        "torch.save(model, 'Unet-Mobilenet.pt')\n"
      ],
      "metadata": {
        "id": "km58PT8qvJ4g",
        "papermill": {
          "duration": 0.15037,
          "end_time": "2021-02-18T11:11:15.01764",
          "exception": false,
          "start_time": "2021-02-18T11:11:14.86727",
          "status": "completed"
        },
        "tags": [],
        "execution": {
          "iopub.status.busy": "2023-04-21T01:47:37.616999Z",
          "iopub.execute_input": "2023-04-21T01:47:37.617371Z",
          "iopub.status.idle": "2023-04-21T01:47:37.715341Z",
          "shell.execute_reply.started": "2023-04-21T01:47:37.617337Z",
          "shell.execute_reply": "2023-04-21T01:47:37.714434Z"
        },
        "trusted": true
      },
      "execution_count": null,
      "outputs": []
    },
    {
      "cell_type": "code",
      "source": [
        "def plot_loss(history):\n",
        "    plt.plot(history['val_loss'], label='val', marker='o')\n",
        "    plt.plot( history['train_loss'], label='train', marker='o')\n",
        "    plt.title('Loss per epoch'); plt.ylabel('loss');\n",
        "    plt.xlabel('epoch')\n",
        "    plt.legend(), plt.grid()\n",
        "    plt.show()\n",
        "\n",
        "def plot_score(history):\n",
        "    plt.plot(history['train_miou'], label='train_mIoU', marker='*')\n",
        "    plt.plot(history['val_miou'], label='val_mIoU',  marker='*')\n",
        "    plt.title('Score per epoch'); plt.ylabel('mean IoU')\n",
        "    plt.xlabel('epoch')\n",
        "    plt.legend(), plt.grid()\n",
        "    plt.show()\n",
        "\n",
        "def plot_acc(history):\n",
        "    plt.plot(history['train_acc'], label='train_accuracy', marker='*')\n",
        "    plt.plot(history['val_acc'], label='val_accuracy',  marker='*')\n",
        "    plt.title('Accuracy per epoch'); plt.ylabel('Accuracy')\n",
        "    plt.xlabel('epoch')\n",
        "    plt.legend(), plt.grid()\n",
        "    plt.show()"
      ],
      "metadata": {
        "id": "ojw74huJJSgn",
        "papermill": {
          "duration": 0.094126,
          "end_time": "2021-02-18T11:11:15.563574",
          "exception": false,
          "start_time": "2021-02-18T11:11:15.469448",
          "status": "completed"
        },
        "tags": [],
        "execution": {
          "iopub.status.busy": "2023-04-21T01:47:52.191523Z",
          "iopub.execute_input": "2023-04-21T01:47:52.191843Z",
          "iopub.status.idle": "2023-04-21T01:47:52.19972Z",
          "shell.execute_reply.started": "2023-04-21T01:47:52.191813Z",
          "shell.execute_reply": "2023-04-21T01:47:52.198495Z"
        },
        "trusted": true
      },
      "execution_count": null,
      "outputs": []
    },
    {
      "cell_type": "code",
      "source": [
        "# plot_loss(history)\n",
        "# plot_score(history)\n",
        "# plot_acc(history)"
      ],
      "metadata": {
        "id": "KT-pRvoJJSgq",
        "papermill": {
          "duration": 0.71827,
          "end_time": "2021-02-18T11:11:16.361999",
          "exception": false,
          "start_time": "2021-02-18T11:11:15.643729",
          "status": "completed"
        },
        "tags": [],
        "execution": {
          "iopub.status.busy": "2023-04-21T01:47:49.530127Z",
          "iopub.execute_input": "2023-04-21T01:47:49.530507Z",
          "iopub.status.idle": "2023-04-21T01:47:49.534569Z",
          "shell.execute_reply.started": "2023-04-21T01:47:49.530472Z",
          "shell.execute_reply": "2023-04-21T01:47:49.533353Z"
        },
        "trusted": true
      },
      "execution_count": null,
      "outputs": []
    },
    {
      "cell_type": "markdown",
      "source": [
        "# Evaluation"
      ],
      "metadata": {
        "id": "6BdSV7zxJSgu",
        "papermill": {
          "duration": 0.049339,
          "end_time": "2021-02-18T11:11:16.461916",
          "exception": false,
          "start_time": "2021-02-18T11:11:16.412577",
          "status": "completed"
        },
        "tags": []
      }
    },
    {
      "cell_type": "code",
      "source": [
        "class DroneTestDataset(Dataset):\n",
        "\n",
        "    def __init__(self, img_path, mask_path, X, transform=None):\n",
        "        self.img_path = img_path\n",
        "        self.mask_path = mask_path\n",
        "        self.X = X\n",
        "        self.transform = transform\n",
        "\n",
        "    def __len__(self):\n",
        "        return len(self.X)\n",
        "\n",
        "    def __getitem__(self, idx):\n",
        "        img = cv2.imread(self.img_path + self.X[idx] + '.jpg')\n",
        "        img = cv2.cvtColor(img, cv2.COLOR_BGR2RGB)\n",
        "        mask = cv2.imread(self.mask_path + self.X[idx] + '.png', cv2.IMREAD_GRAYSCALE)\n",
        "\n",
        "        if self.transform is not None:\n",
        "            aug = self.transform(image=img, mask=mask)\n",
        "            img = Image.fromarray(aug['image'])\n",
        "            mask = aug['mask']\n",
        "\n",
        "        if self.transform is None:\n",
        "            img = Image.fromarray(img)\n",
        "\n",
        "        mask = torch.from_numpy(mask).long()\n",
        "\n",
        "        return img, mask\n",
        "\n",
        "\n",
        "t_test = A.Resize(768, 1152, interpolation=cv2.INTER_NEAREST)\n",
        "test_set = DroneTestDataset(IMAGE_PATH, MASK_PATH, X_test, transform=t_test)"
      ],
      "metadata": {
        "id": "s9A82ZcL14-M",
        "papermill": {
          "duration": 0.06197,
          "end_time": "2021-02-18T11:11:16.573439",
          "exception": false,
          "start_time": "2021-02-18T11:11:16.511469",
          "status": "completed"
        },
        "tags": [],
        "execution": {
          "iopub.status.busy": "2023-04-21T01:47:55.491195Z",
          "iopub.execute_input": "2023-04-21T01:47:55.491542Z",
          "iopub.status.idle": "2023-04-21T01:47:55.500072Z",
          "shell.execute_reply.started": "2023-04-21T01:47:55.491508Z",
          "shell.execute_reply": "2023-04-21T01:47:55.498842Z"
        },
        "trusted": true
      },
      "execution_count": null,
      "outputs": []
    },
    {
      "cell_type": "markdown",
      "source": [
        "## Result"
      ],
      "metadata": {
        "id": "j0c6UnUz4gb6",
        "papermill": {
          "duration": 0.050775,
          "end_time": "2021-02-18T11:11:16.67452",
          "exception": false,
          "start_time": "2021-02-18T11:11:16.623745",
          "status": "completed"
        },
        "tags": []
      }
    },
    {
      "cell_type": "code",
      "source": [
        "def predict_image_mask_miou(model, image, mask, mean=[0.485, 0.456, 0.406], std=[0.229, 0.224, 0.225]):\n",
        "    model.eval()\n",
        "    t = T.Compose([T.ToTensor(), T.Normalize(mean, std)])\n",
        "    image = t(image)\n",
        "    model.to(device); image=image.to(device)\n",
        "    mask = mask.to(device)\n",
        "    with torch.no_grad():\n",
        "\n",
        "        image = image.unsqueeze(0)\n",
        "        mask = mask.unsqueeze(0)\n",
        "\n",
        "        output = model(image)\n",
        "        score = mIoU(output, mask)\n",
        "        masked = torch.argmax(output, dim=1)\n",
        "        masked = masked.cpu().squeeze(0)\n",
        "    return masked, score"
      ],
      "metadata": {
        "papermill": {
          "duration": 0.060719,
          "end_time": "2021-02-18T11:11:16.785872",
          "exception": false,
          "start_time": "2021-02-18T11:11:16.725153",
          "status": "completed"
        },
        "tags": [],
        "execution": {
          "iopub.status.busy": "2023-04-21T01:47:58.888239Z",
          "iopub.execute_input": "2023-04-21T01:47:58.88858Z",
          "iopub.status.idle": "2023-04-21T01:47:58.894637Z",
          "shell.execute_reply.started": "2023-04-21T01:47:58.888547Z",
          "shell.execute_reply": "2023-04-21T01:47:58.893743Z"
        },
        "trusted": true,
        "id": "71Es6t_2DFYL"
      },
      "execution_count": null,
      "outputs": []
    },
    {
      "cell_type": "code",
      "source": [
        "def predict_image_mask_pixel(model, image, mask, mean=[0.485, 0.456, 0.406], std=[0.229, 0.224, 0.225]):\n",
        "    model.eval()\n",
        "    t = T.Compose([T.ToTensor(), T.Normalize(mean, std)])\n",
        "    image = t(image)\n",
        "    model.to(device); image=image.to(device)\n",
        "    mask = mask.to(device)\n",
        "    with torch.no_grad():\n",
        "\n",
        "        image = image.unsqueeze(0)\n",
        "        mask = mask.unsqueeze(0)\n",
        "\n",
        "        output = model(image)\n",
        "        acc = pixel_accuracy(output, mask)\n",
        "        masked = torch.argmax(output, dim=1)\n",
        "        masked = masked.cpu().squeeze(0)\n",
        "    return masked, acc"
      ],
      "metadata": {
        "id": "ggsxFaduVz2O",
        "papermill": {
          "duration": 0.059442,
          "end_time": "2021-02-18T11:11:16.89527",
          "exception": false,
          "start_time": "2021-02-18T11:11:16.835828",
          "status": "completed"
        },
        "tags": [],
        "execution": {
          "iopub.status.busy": "2023-04-21T01:48:00.953133Z",
          "iopub.execute_input": "2023-04-21T01:48:00.953462Z",
          "iopub.status.idle": "2023-04-21T01:48:00.959517Z",
          "shell.execute_reply.started": "2023-04-21T01:48:00.953431Z",
          "shell.execute_reply": "2023-04-21T01:48:00.958538Z"
        },
        "trusted": true
      },
      "execution_count": null,
      "outputs": []
    },
    {
      "cell_type": "code",
      "source": [
        "image, mask = test_set[3]\n",
        "pred_mask, score = predict_image_mask_miou(model, image, mask)"
      ],
      "metadata": {
        "id": "ZPPKBax53Kj7",
        "papermill": {
          "duration": 0.725244,
          "end_time": "2021-02-18T11:11:17.669662",
          "exception": false,
          "start_time": "2021-02-18T11:11:16.944418",
          "status": "completed"
        },
        "tags": [],
        "execution": {
          "iopub.status.busy": "2023-04-21T01:48:02.707193Z",
          "iopub.execute_input": "2023-04-21T01:48:02.707682Z",
          "iopub.status.idle": "2023-04-21T01:48:03.442959Z",
          "shell.execute_reply.started": "2023-04-21T01:48:02.707628Z",
          "shell.execute_reply": "2023-04-21T01:48:03.441974Z"
        },
        "trusted": true
      },
      "execution_count": null,
      "outputs": []
    },
    {
      "cell_type": "code",
      "source": [
        "def miou_score(model, test_set):\n",
        "    score_iou = []\n",
        "    for i in tqdm(range(len(test_set))):\n",
        "        img, mask = test_set[i]\n",
        "        pred_mask, score = predict_image_mask_miou(model, img, mask)\n",
        "        score_iou.append(score)\n",
        "    return score_iou"
      ],
      "metadata": {
        "id": "-UY_OKGW-Zo5",
        "papermill": {
          "duration": 0.057861,
          "end_time": "2021-02-18T11:11:17.777536",
          "exception": false,
          "start_time": "2021-02-18T11:11:17.719675",
          "status": "completed"
        },
        "tags": [],
        "execution": {
          "iopub.status.busy": "2023-04-21T01:48:05.284378Z",
          "iopub.execute_input": "2023-04-21T01:48:05.284725Z",
          "iopub.status.idle": "2023-04-21T01:48:05.291699Z",
          "shell.execute_reply.started": "2023-04-21T01:48:05.284695Z",
          "shell.execute_reply": "2023-04-21T01:48:05.290804Z"
        },
        "trusted": true
      },
      "execution_count": null,
      "outputs": []
    },
    {
      "cell_type": "code",
      "source": [
        "mob_miou = miou_score(model, test_set)"
      ],
      "metadata": {
        "id": "DCa1A9y8zTbg",
        "papermill": {
          "duration": 26.64397,
          "end_time": "2021-02-18T11:11:44.471497",
          "exception": false,
          "start_time": "2021-02-18T11:11:17.827527",
          "status": "completed"
        },
        "tags": [],
        "execution": {
          "iopub.status.busy": "2023-04-21T01:48:07.321524Z",
          "iopub.execute_input": "2023-04-21T01:48:07.321864Z",
          "iopub.status.idle": "2023-04-21T01:48:36.346185Z",
          "shell.execute_reply.started": "2023-04-21T01:48:07.321832Z",
          "shell.execute_reply": "2023-04-21T01:48:36.3453Z"
        },
        "trusted": true
      },
      "execution_count": null,
      "outputs": []
    },
    {
      "cell_type": "code",
      "source": [
        "def pixel_acc(model, test_set):\n",
        "    accuracy = []\n",
        "    for i in tqdm(range(len(test_set))):\n",
        "        img, mask = test_set[i]\n",
        "        pred_mask, acc = predict_image_mask_pixel(model, img, mask)\n",
        "        accuracy.append(acc)\n",
        "    return accuracy"
      ],
      "metadata": {
        "id": "LuexylyzXCmc",
        "papermill": {
          "duration": 0.058884,
          "end_time": "2021-02-18T11:11:44.581542",
          "exception": false,
          "start_time": "2021-02-18T11:11:44.522658",
          "status": "completed"
        },
        "tags": [],
        "execution": {
          "iopub.status.busy": "2023-04-21T01:48:43.955351Z",
          "iopub.execute_input": "2023-04-21T01:48:43.955732Z",
          "iopub.status.idle": "2023-04-21T01:48:43.9611Z",
          "shell.execute_reply.started": "2023-04-21T01:48:43.955699Z",
          "shell.execute_reply": "2023-04-21T01:48:43.959913Z"
        },
        "trusted": true
      },
      "execution_count": null,
      "outputs": []
    },
    {
      "cell_type": "code",
      "source": [
        "mob_acc = pixel_acc(model, test_set)"
      ],
      "metadata": {
        "id": "wIEZR3w4XTFL",
        "papermill": {
          "duration": 25.407116,
          "end_time": "2021-02-18T11:12:10.040411",
          "exception": false,
          "start_time": "2021-02-18T11:11:44.633295",
          "status": "completed"
        },
        "tags": [],
        "execution": {
          "iopub.status.busy": "2023-04-21T01:48:45.755966Z",
          "iopub.execute_input": "2023-04-21T01:48:45.756277Z",
          "iopub.status.idle": "2023-04-21T01:49:13.111527Z",
          "shell.execute_reply.started": "2023-04-21T01:48:45.756248Z",
          "shell.execute_reply": "2023-04-21T01:49:13.110685Z"
        },
        "trusted": true
      },
      "execution_count": null,
      "outputs": []
    },
    {
      "cell_type": "code",
      "source": [
        "fig, (ax1, ax2, ax3) = plt.subplots(1,3, figsize=(20,10))\n",
        "ax1.imshow(image)\n",
        "ax1.set_title('Picture');\n",
        "\n",
        "ax2.imshow(mask)\n",
        "ax2.set_title('Ground truth')\n",
        "ax2.set_axis_off()\n",
        "\n",
        "ax3.imshow(pred_mask)\n",
        "ax3.set_title('UNet-MobileNet | mIoU {:.3f}'.format(score))\n",
        "ax3.set_axis_off()"
      ],
      "metadata": {
        "id": "FV6xO9SLtSum",
        "papermill": {
          "duration": 0.624904,
          "end_time": "2021-02-18T11:12:10.715853",
          "exception": false,
          "start_time": "2021-02-18T11:12:10.090949",
          "status": "completed"
        },
        "tags": [],
        "execution": {
          "iopub.status.busy": "2023-04-21T01:49:19.421143Z",
          "iopub.execute_input": "2023-04-21T01:49:19.421485Z",
          "iopub.status.idle": "2023-04-21T01:49:19.999206Z",
          "shell.execute_reply.started": "2023-04-21T01:49:19.421451Z",
          "shell.execute_reply": "2023-04-21T01:49:19.998325Z"
        },
        "trusted": true
      },
      "execution_count": null,
      "outputs": []
    },
    {
      "cell_type": "code",
      "source": [
        "image2, mask2 = test_set[4]\n",
        "pred_mask2, score2 = predict_image_mask_miou(model, image2, mask2)\n",
        "\n",
        "fig, (ax1, ax2, ax3) = plt.subplots(1,3, figsize=(20,10))\n",
        "ax1.imshow(image2)\n",
        "ax1.set_title('Picture');\n",
        "\n",
        "ax2.imshow(mask2)\n",
        "ax2.set_title('Ground truth')\n",
        "ax2.set_axis_off()\n",
        "\n",
        "ax3.imshow(pred_mask2)\n",
        "ax3.set_title('UNet-MobileNet | mIoU {:.3f}'.format(score2))\n",
        "ax3.set_axis_off()"
      ],
      "metadata": {
        "papermill": {
          "duration": 1.113059,
          "end_time": "2021-02-18T11:12:11.886384",
          "exception": false,
          "start_time": "2021-02-18T11:12:10.773325",
          "status": "completed"
        },
        "tags": [],
        "execution": {
          "iopub.status.busy": "2023-04-21T01:49:27.226238Z",
          "iopub.execute_input": "2023-04-21T01:49:27.226626Z",
          "iopub.status.idle": "2023-04-21T01:49:28.437269Z",
          "shell.execute_reply.started": "2023-04-21T01:49:27.226593Z",
          "shell.execute_reply": "2023-04-21T01:49:28.436358Z"
        },
        "trusted": true,
        "id": "tdZPtkEKDFYP"
      },
      "execution_count": null,
      "outputs": []
    },
    {
      "cell_type": "code",
      "source": [
        "image3, mask3 = test_set[6]\n",
        "pred_mask3, score3 = predict_image_mask_miou(model, image3, mask3)\n",
        "\n",
        "fig, (ax1, ax2, ax3) = plt.subplots(1,3, figsize=(20,10))\n",
        "ax1.imshow(image3)\n",
        "ax1.set_title('Picture');\n",
        "\n",
        "ax2.imshow(mask3)\n",
        "ax2.set_title('Ground truth')\n",
        "ax2.set_axis_off()\n",
        "\n",
        "ax3.imshow(pred_mask3)\n",
        "ax3.set_title('UNet-MobileNet | mIoU {:.3f}'.format(score3))\n",
        "ax3.set_axis_off()"
      ],
      "metadata": {
        "papermill": {
          "duration": 1.110346,
          "end_time": "2021-02-18T11:12:13.062543",
          "exception": false,
          "start_time": "2021-02-18T11:12:11.952197",
          "status": "completed"
        },
        "tags": [],
        "execution": {
          "iopub.status.busy": "2023-04-21T01:49:37.639219Z",
          "iopub.execute_input": "2023-04-21T01:49:37.639555Z",
          "iopub.status.idle": "2023-04-21T01:49:38.794014Z",
          "shell.execute_reply.started": "2023-04-21T01:49:37.639525Z",
          "shell.execute_reply": "2023-04-21T01:49:38.793189Z"
        },
        "trusted": true,
        "id": "Vsh-8_o4DFYQ"
      },
      "execution_count": null,
      "outputs": []
    },
    {
      "cell_type": "code",
      "source": [
        "print('Test Set mIoU', np.mean(mob_miou))"
      ],
      "metadata": {
        "id": "xxTIX8P-JSh9",
        "papermill": {
          "duration": 0.079123,
          "end_time": "2021-02-18T11:12:13.21186",
          "exception": false,
          "start_time": "2021-02-18T11:12:13.132737",
          "status": "completed"
        },
        "tags": [],
        "execution": {
          "iopub.status.busy": "2023-04-21T01:49:53.391392Z",
          "iopub.execute_input": "2023-04-21T01:49:53.39177Z",
          "iopub.status.idle": "2023-04-21T01:49:53.400444Z",
          "shell.execute_reply.started": "2023-04-21T01:49:53.391738Z",
          "shell.execute_reply": "2023-04-21T01:49:53.399668Z"
        },
        "trusted": true
      },
      "execution_count": null,
      "outputs": []
    },
    {
      "cell_type": "code",
      "source": [
        "print('Test Set Pixel Accuracy', np.mean(mob_acc))"
      ],
      "metadata": {
        "id": "bcKnghXTXbAJ",
        "papermill": {
          "duration": 0.080048,
          "end_time": "2021-02-18T11:12:13.361311",
          "exception": false,
          "start_time": "2021-02-18T11:12:13.281263",
          "status": "completed"
        },
        "tags": [],
        "execution": {
          "iopub.status.busy": "2023-04-21T01:49:43.726094Z",
          "iopub.execute_input": "2023-04-21T01:49:43.726432Z",
          "iopub.status.idle": "2023-04-21T01:49:43.731587Z",
          "shell.execute_reply.started": "2023-04-21T01:49:43.726387Z",
          "shell.execute_reply": "2023-04-21T01:49:43.730539Z"
        },
        "trusted": true
      },
      "execution_count": null,
      "outputs": []
    },
    {
      "cell_type": "code",
      "source": [],
      "metadata": {
        "id": "tDpnoUcVDFYR"
      },
      "execution_count": null,
      "outputs": []
    }
  ]
}